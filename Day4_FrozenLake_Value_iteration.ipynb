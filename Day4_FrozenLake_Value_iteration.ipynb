{
  "cells": [
    {
      "cell_type": "markdown",
      "metadata": {
        "id": "view-in-github",
        "colab_type": "text"
      },
      "source": [
        "<a href=\"https://colab.research.google.com/github/meetAmarAtGithub/7_Reinforcement_Learning/blob/main/Day4_FrozenLake_Value_iteration.ipynb\" target=\"_parent\"><img src=\"https://colab.research.google.com/assets/colab-badge.svg\" alt=\"Open In Colab\"/></a>"
      ]
    },
    {
      "cell_type": "markdown",
      "id": "6e867b5c",
      "metadata": {
        "id": "6e867b5c"
      },
      "source": [
        "https://github.com/mbodenham/gridworld-value-iteration"
      ]
    },
    {
      "cell_type": "code",
      "execution_count": null,
      "id": "17335166",
      "metadata": {
        "id": "17335166",
        "outputId": "30209979-04f7-4ddc-cd24-c1b0490e65db"
      },
      "outputs": [
        {
          "name": "stdout",
          "output_type": "stream",
          "text": [
            "200 iterations of state space\n"
          ]
        },
        {
          "data": {
            "image/png": "[encoded data removed]",
            "text/plain": [
              "<Figure size 432x288 with 1 Axes>"
            ]
          },
          "metadata": {
            "needs_background": "light"
          },
          "output_type": "display_data"
        },
        {
          "data": {
            "image/png": "[encoded data removed]",
            "text/plain": [
              "<Figure size 432x288 with 1 Axes>"
            ]
          },
          "metadata": {
            "needs_background": "light"
          },
          "output_type": "display_data"
        }
      ],
      "source": [
        "import numpy as np\n",
        "import matplotlib.pyplot as plt\n",
        "\n",
        "class GridWorld(object):\n",
        "    def __init__(self, gridSize, items):\n",
        "        self.step_reward = -1\n",
        "        self.m = gridSize[0]\n",
        "        self.n = gridSize[1]\n",
        "        self.grid = np.zeros(gridSize)\n",
        "        self.items = items\n",
        "\n",
        "        self.state_space = list(range(self.m * self.n))\n",
        "\n",
        "        self.action_space = {'U': -self.m, 'D': self.m, 'L': -1, 'R': 1}\n",
        "        self.actions = ['U', 'D', 'L', 'R']\n",
        "\n",
        "        self.P = self.int_P()\n",
        "\n",
        "    def int_P(self):\n",
        "        P = {}\n",
        "        for state in self.state_space:\n",
        "            for action in self.actions:\n",
        "                reward = self.step_reward\n",
        "                n_state = state + self.action_space[action]\n",
        "\n",
        "\n",
        "                if n_state in self.items.get('fire').get('loc'):\n",
        "                    reward += self.items.get('fire').get('reward')\n",
        "                elif n_state in self.items.get('water').get('loc'):\n",
        "                    reward += self.items.get('water').get('reward')\n",
        "                elif self.check_move(n_state, state):\n",
        "                    n_state = state\n",
        "\n",
        "                P[(state ,action)] = (n_state, reward)\n",
        "        return P\n",
        "\n",
        "    def check_terminal(self, state):\n",
        "        return state in self.items.get('fire').get('loc') + self.items.get('water').get('loc')\n",
        "\n",
        "    def check_move(self, n_state, oldState):\n",
        "        if n_state not in self.state_space:\n",
        "            return True\n",
        "        elif oldState % self.m == 0 and n_state % self.m == self.m - 1:\n",
        "            return True\n",
        "        elif oldState % self.m == self.m - 1 and n_state % self.m == 0:\n",
        "            return True\n",
        "        else:\n",
        "            return False\n",
        "\n",
        "def print_v(v, grid):\n",
        "    v = np.reshape(v, (grid.n, grid.m))\n",
        "\n",
        "    cmap = plt.cm.get_cmap('Greens', 10)\n",
        "    norm = plt.Normalize(v.min(), v.max())\n",
        "    rgba = cmap(norm(v))\n",
        "\n",
        "    for w in grid.items.get('water').get('loc'):\n",
        "        idx = np.unravel_index(w, v.shape)\n",
        "        rgba[idx] = 0.0, 0.5, 0.8, 1.0\n",
        "\n",
        "    for f in grid.items.get('fire').get('loc'):\n",
        "        idx = np.unravel_index(f, v.shape)\n",
        "        rgba[idx] = 1.0, 0.5, 0.1, 1.0\n",
        "\n",
        "    fig, ax = plt.subplots()\n",
        "    im = ax.imshow(rgba, interpolation='nearest')\n",
        "\n",
        "    for i in range(v.shape[0]):\n",
        "        for j in range(v.shape[1]):\n",
        "            if v[i, j] != 0:\n",
        "                text = ax.text(j, i, v[i, j], ha=\"center\", va=\"center\", color=\"w\")\n",
        "\n",
        "    plt.axis('off')\n",
        "    # plt.savefig('deterministic_v.jpg', bbox_inches='tight', dpi=200)\n",
        "    plt.show()\n",
        "\n",
        "\n",
        "def print_policy(v, policy, grid):\n",
        "    v = np.reshape(v, (grid.n, grid.m))\n",
        "    policy = np.reshape(policy, (grid.n, grid.m))\n",
        "\n",
        "    cmap = plt.cm.get_cmap('Greens', 10)\n",
        "    norm = plt.Normalize(v.min(), v.max())\n",
        "    rgba = cmap(norm(v))\n",
        "\n",
        "    for w in grid.items.get('water').get('loc'):\n",
        "        idx = np.unravel_index(w, v.shape)\n",
        "        rgba[idx] = 0.0, 0.5, 0.8, 1.0\n",
        "\n",
        "    for f in grid.items.get('fire').get('loc'):\n",
        "        idx = np.unravel_index(f, v.shape)\n",
        "        rgba[idx] = 1.0, 0.5, 0.1, 1.0\n",
        "\n",
        "    fig, ax = plt.subplots()\n",
        "    im = ax.imshow(rgba, interpolation='nearest')\n",
        "\n",
        "    for i in range(v.shape[0]):\n",
        "        for j in range(v.shape[1]):\n",
        "            if v[i, j] != 0:\n",
        "                text = ax.text(j, i, policy[i, j], ha=\"center\", va=\"center\", color=\"w\")\n",
        "\n",
        "    plt.axis('off')\n",
        "    # plt.savefig('deterministic_policy.jpg', bbox_inches='tight', dpi=200)\n",
        "    plt.show()\n",
        "\n",
        "def interate_values(grid, v , policy, gamma, theta):\n",
        "    converged = False\n",
        "    i = 0\n",
        "    while not converged:\n",
        "        DELTA = 0\n",
        "        for state in grid.state_space:\n",
        "            i += 1\n",
        "            if  grid.check_terminal(state):\n",
        "                v[state] = 0\n",
        "\n",
        "            else:\n",
        "                old_v = v[state]\n",
        "                new_v = []\n",
        "                for action in grid.actions:\n",
        "                    (n_state, reward) = grid.P.get((state, action))\n",
        "                    # print(reward)\n",
        "                    # if reward == 9:\n",
        "                    #     print(reward + gamma * v[n_state])\n",
        "                    new_v.append(reward + gamma * v[n_state])\n",
        "\n",
        "                v[state] = max(new_v)\n",
        "\n",
        "                DELTA = max(DELTA, np.abs(old_v - v[state]))\n",
        "                converged = True if DELTA < theta else False\n",
        "\n",
        "    for state in grid.state_space:\n",
        "        i += 1\n",
        "        new_vs = []\n",
        "\n",
        "        for action in grid.actions:\n",
        "            (n_state, reward) = grid.P.get((state, action))\n",
        "            new_vs.append(reward + gamma * v[n_state])\n",
        "\n",
        "        new_vs = np.array(new_vs)\n",
        "        best_action_idx = np.where(new_vs == new_vs.max())[0]\n",
        "        policy[state] = grid.actions[best_action_idx[0]]\n",
        "\n",
        "    print(i, 'iterations of state space')\n",
        "    return v, policy\n",
        "\n",
        "\n",
        "if __name__ == '__main__':\n",
        "\n",
        "    grid_size = (5, 5)\n",
        "    items = {'fire': {'reward': -10, 'loc': [12]},\n",
        "             'water': {'reward': 10, 'loc': [18]}}\n",
        "\n",
        "    gamma = 1.0\n",
        "    theta = 1e-10\n",
        "\n",
        "    v = np.zeros(np.prod(grid_size))\n",
        "    policy = np.full(np.prod(grid_size), 'n')\n",
        "\n",
        "    env = GridWorld(grid_size, items)\n",
        "\n",
        "    v, policy = interate_values(env, v, policy, gamma, theta)\n",
        "\n",
        "    print_v(v, env)\n",
        "    print_policy(v, policy, env)"
      ]
    },
    {
      "cell_type": "code",
      "execution_count": null,
      "id": "17db8822",
      "metadata": {
        "id": "17db8822"
      },
      "outputs": [],
      "source": []
    }
  ],
  "metadata": {
    "kernelspec": {
      "display_name": "Python 3",
      "language": "python",
      "name": "python3"
    },
    "language_info": {
      "codemirror_mode": {
        "name": "ipython",
        "version": 3
      },
      "file_extension": ".py",
      "mimetype": "text/x-python",
      "name": "python",
      "nbconvert_exporter": "python",
      "pygments_lexer": "ipython3",
      "version": "3.9.5"
    },
    "colab": {
      "provenance": [],
      "include_colab_link": true
    }
  },
  "nbformat": 4,
  "nbformat_minor": 5
}